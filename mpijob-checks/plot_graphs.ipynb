{
 "metadata": {
  "language_info": {
   "codemirror_mode": {
    "name": "ipython",
    "version": 3
   },
   "file_extension": ".py",
   "mimetype": "text/x-python",
   "name": "python",
   "nbconvert_exporter": "python",
   "pygments_lexer": "ipython3",
   "version": "3.9.2-final"
  },
  "orig_nbformat": 2,
  "kernelspec": {
   "name": "Python 3.9.2 64-bit",
   "display_name": "Python 3.9.2 64-bit",
   "metadata": {
    "interpreter": {
     "hash": "767d51c1340bd893661ea55ea3124f6de3c7a262a8b4abca0554b478b1e2ff90"
    }
   }
  }
 },
 "nbformat": 4,
 "nbformat_minor": 2,
 "cells": [
  {
   "cell_type": "code",
   "execution_count": 1,
   "metadata": {},
   "outputs": [],
   "source": [
    "import pandas as pd \n",
    "import matplotlib.pyplot as plt \n",
    "from pprint import pprint\n",
    "import os\n"
   ]
  },
  {
   "cell_type": "code",
   "execution_count": 2,
   "metadata": {},
   "outputs": [],
   "source": [
    "RESULT_DELIMETER = \"T/V                N    NB     P     Q               Time                 Gflops\"\n",
    "\n",
    "def get_parameter_grid(data): \n",
    "    \n",
    "    start = None\n",
    "    for i, value in enumerate(data):  \n",
    "        if \"The following parameter values will be used:\" in value: \n",
    "            start = i \n",
    "    \n",
    "    parameter_grid = { }\n",
    "\n",
    "    for i, line in enumerate(data[start::]): \n",
    "        line = line.strip()\n",
    "        if \"----------------\" in line: \n",
    "            break \n",
    "        else: \n",
    "            if line != \"\": \n",
    "                # value.split(\":\")\n",
    "                value = line.split(\":\")\n",
    "\n",
    "                key = value[0].strip()\n",
    "                value = value[1].strip()\n",
    "                parameter_grid[key] = value\n",
    "            \n",
    "    return parameter_grid\n",
    "            \n",
    "\n",
    "\n",
    "def parse_data(data): \n",
    "    results = []\n",
    "    for i, line in enumerate(data): \n",
    "        if RESULT_DELIMETER in line: \n",
    "            value = data[i+2]\n",
    "            value = value.split()\n",
    "            results.append(\n",
    "                {\"N\": value[1], \n",
    "                \"NB\": value[2], \n",
    "                \"P\": value[3],\n",
    "                \"Q\": value[4],\n",
    "                \"Time\": value[5], \n",
    "                \"Gflops\": value[6],})\n",
    "            \n",
    "    return results\n",
    "\n",
    "\n",
    "def get_results(file_name): \n",
    "    command = \"make logbruh\"\n",
    "    data = None\n",
    "    with open(file_name) as file: \n",
    "        data = file.readlines()\n",
    "    \n",
    "    parameter_grid = get_parameter_grid(data)        \n",
    "    data = parse_data(data)\n",
    "    # pprint(parameter_grid)\n",
    "    # pprint(data)\n",
    "    return pd.DataFrame(data).sort_values(by=[\"N\", \"Time\"], ascending=[False, True])\n",
    "\n",
    "dir_name = \"22-03-23-results\"\n",
    "for file in os.listdir(dir_name): \n",
    "    if \"out\" in file:\n",
    "        get_results(f\"{dir_name}/{file}\") \n",
    "\n",
    "\n"
   ]
  },
  {
   "cell_type": "code",
   "execution_count": null,
   "metadata": {},
   "outputs": [],
   "source": []
  }
 ]
}